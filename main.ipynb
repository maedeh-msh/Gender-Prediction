{
 "cells": [
  {
   "cell_type": "code",
   "execution_count": 14,
   "id": "e870f726",
   "metadata": {},
   "outputs": [
    {
     "name": "stdout",
     "output_type": "stream",
     "text": [
      "Keyring is skipped due to an exception: 'keyring.backends'\n",
      "Requirement already satisfied: Faker in /home/maedeh/anaconda3/lib/python3.7/site-packages (15.1.1)\n",
      "Requirement already satisfied: python-dateutil>=2.4 in /home/maedeh/anaconda3/lib/python3.7/site-packages (from Faker) (2.8.2)\n",
      "Requirement already satisfied: typing-extensions>=3.10.0.1; python_version < \"3.8\" in /home/maedeh/anaconda3/lib/python3.7/site-packages (from Faker) (4.2.0)\n",
      "Requirement already satisfied: six>=1.5 in /home/maedeh/anaconda3/lib/python3.7/site-packages (from python-dateutil>=2.4->Faker) (1.16.0)\n",
      "Keyring is skipped due to an exception: 'keyring.backends'\n",
      "Requirement already satisfied: names-dataset in /home/maedeh/anaconda3/lib/python3.7/site-packages (3.1.0)\n",
      "Requirement already satisfied: pycountry in /home/maedeh/anaconda3/lib/python3.7/site-packages (from names-dataset) (22.3.5)\n",
      "Requirement already satisfied: setuptools in /home/maedeh/anaconda3/lib/python3.7/site-packages (from pycountry->names-dataset) (45.2.0.post20200210)\n"
     ]
    }
   ],
   "source": [
    "!pip install Faker\n",
    "!pip install names-dataset"
   ]
  },
  {
   "cell_type": "code",
   "execution_count": 15,
   "id": "56ff0b08",
   "metadata": {},
   "outputs": [],
   "source": [
    "from faker import Faker"
   ]
  },
  {
   "cell_type": "code",
   "execution_count": 16,
   "id": "451e534f",
   "metadata": {},
   "outputs": [],
   "source": [
    "en_fake = Faker()\n",
    "fa_fake = Faker('Fa')"
   ]
  },
  {
   "cell_type": "code",
   "execution_count": 17,
   "id": "b08f0933",
   "metadata": {},
   "outputs": [],
   "source": [
    "from names_dataset import NameDataset"
   ]
  },
  {
   "cell_type": "code",
   "execution_count": 18,
   "id": "a86f7bd8",
   "metadata": {},
   "outputs": [],
   "source": [
    "nd = NameDataset()"
   ]
  },
  {
   "cell_type": "code",
   "execution_count": 19,
   "id": "563bac16",
   "metadata": {},
   "outputs": [],
   "source": [
    "import numpy as np"
   ]
  },
  {
   "cell_type": "code",
   "execution_count": 126,
   "id": "c1077fce",
   "metadata": {},
   "outputs": [],
   "source": [
    "def make_name():\n",
    "    if np.random.rand()> 0.5:\n",
    "        return en_fake.name()\n",
    "    \n",
    "    return fa_fake.name()"
   ]
  },
  {
   "cell_type": "code",
   "execution_count": 127,
   "id": "fff5b74b",
   "metadata": {},
   "outputs": [],
   "source": [
    "import pandas as pd"
   ]
  },
  {
   "cell_type": "markdown",
   "id": "914a488e",
   "metadata": {},
   "source": [
    "# Load Data"
   ]
  },
  {
   "cell_type": "code",
   "execution_count": 128,
   "id": "8df23622",
   "metadata": {},
   "outputs": [],
   "source": [
    "df = pd.DataFrame({\n",
    "    'Name': [make_name() for _ in range(10)]\n",
    "})"
   ]
  },
  {
   "cell_type": "code",
   "execution_count": 129,
   "id": "ebff3f9c",
   "metadata": {},
   "outputs": [
    {
     "data": {
      "text/html": [
       "<div>\n",
       "<style scoped>\n",
       "    .dataframe tbody tr th:only-of-type {\n",
       "        vertical-align: middle;\n",
       "    }\n",
       "\n",
       "    .dataframe tbody tr th {\n",
       "        vertical-align: top;\n",
       "    }\n",
       "\n",
       "    .dataframe thead th {\n",
       "        text-align: right;\n",
       "    }\n",
       "</style>\n",
       "<table border=\"1\" class=\"dataframe\">\n",
       "  <thead>\n",
       "    <tr style=\"text-align: right;\">\n",
       "      <th></th>\n",
       "      <th>Name</th>\n",
       "    </tr>\n",
       "  </thead>\n",
       "  <tbody>\n",
       "    <tr>\n",
       "      <th>0</th>\n",
       "      <td>Chad Cohen</td>\n",
       "    </tr>\n",
       "    <tr>\n",
       "      <th>1</th>\n",
       "      <td>Sara Johnson</td>\n",
       "    </tr>\n",
       "    <tr>\n",
       "      <th>2</th>\n",
       "      <td>Rachael Barker</td>\n",
       "    </tr>\n",
       "    <tr>\n",
       "      <th>3</th>\n",
       "      <td>Anna Gonzalez</td>\n",
       "    </tr>\n",
       "    <tr>\n",
       "      <th>4</th>\n",
       "      <td>Madison Dunlap</td>\n",
       "    </tr>\n",
       "    <tr>\n",
       "      <th>5</th>\n",
       "      <td>James Murray</td>\n",
       "    </tr>\n",
       "    <tr>\n",
       "      <th>6</th>\n",
       "      <td>سرکار خانم محیا عزیزی</td>\n",
       "    </tr>\n",
       "    <tr>\n",
       "      <th>7</th>\n",
       "      <td>عرفان جهانی</td>\n",
       "    </tr>\n",
       "    <tr>\n",
       "      <th>8</th>\n",
       "      <td>Amanda Ramirez</td>\n",
       "    </tr>\n",
       "    <tr>\n",
       "      <th>9</th>\n",
       "      <td>ابوالفضل لاچینی</td>\n",
       "    </tr>\n",
       "  </tbody>\n",
       "</table>\n",
       "</div>"
      ],
      "text/plain": [
       "                    Name\n",
       "0             Chad Cohen\n",
       "1           Sara Johnson\n",
       "2         Rachael Barker\n",
       "3          Anna Gonzalez\n",
       "4         Madison Dunlap\n",
       "5           James Murray\n",
       "6  سرکار خانم محیا عزیزی\n",
       "7            عرفان جهانی\n",
       "8         Amanda Ramirez\n",
       "9        ابوالفضل لاچینی"
      ]
     },
     "execution_count": 129,
     "metadata": {},
     "output_type": "execute_result"
    }
   ],
   "source": [
    "df"
   ]
  },
  {
   "cell_type": "markdown",
   "id": "732ec2be",
   "metadata": {},
   "source": [
    "# Extract First and Last name"
   ]
  },
  {
   "cell_type": "code",
   "execution_count": 130,
   "id": "96c9a851",
   "metadata": {},
   "outputs": [
    {
     "data": {
      "text/plain": [
       "'عرفان حمیدی'"
      ]
     },
     "execution_count": 130,
     "metadata": {},
     "output_type": "execute_result"
    }
   ],
   "source": [
    "full_name = fa_fake.name()\n",
    "full_name"
   ]
  },
  {
   "cell_type": "code",
   "execution_count": 131,
   "id": "690d6cb0",
   "metadata": {},
   "outputs": [],
   "source": [
    "first_name,*_, last_name = full_name.split()"
   ]
  },
  {
   "cell_type": "code",
   "execution_count": 132,
   "id": "7ac45159",
   "metadata": {},
   "outputs": [
    {
     "data": {
      "text/plain": [
       "'عرفان'"
      ]
     },
     "execution_count": 132,
     "metadata": {},
     "output_type": "execute_result"
    }
   ],
   "source": [
    "first_name"
   ]
  },
  {
   "cell_type": "code",
   "execution_count": 133,
   "id": "96b5ac6a",
   "metadata": {},
   "outputs": [
    {
     "data": {
      "text/plain": [
       "'Cook Islands'"
      ]
     },
     "execution_count": 133,
     "metadata": {},
     "output_type": "execute_result"
    }
   ],
   "source": [
    "country = en_fake.country()\n",
    "country"
   ]
  },
  {
   "cell_type": "code",
   "execution_count": 134,
   "id": "6b868458",
   "metadata": {},
   "outputs": [],
   "source": [
    "df['First Name'] = df['Name'].apply(\n",
    "    lambda full_name: full_name.split()[0]\n",
    ")"
   ]
  },
  {
   "cell_type": "code",
   "execution_count": 135,
   "id": "d3157a36",
   "metadata": {},
   "outputs": [],
   "source": [
    "df['Last Name'] = df['Name'].apply(\n",
    "    lambda full_name: full_name.split()[-1]\n",
    ")"
   ]
  },
  {
   "cell_type": "markdown",
   "id": "5dfbdcc5",
   "metadata": {},
   "source": [
    "# Predict Gender"
   ]
  },
  {
   "cell_type": "code",
   "execution_count": 136,
   "id": "46c8267a",
   "metadata": {},
   "outputs": [],
   "source": [
    "def name_to_gender(first_name):\n",
    "    info = nd.search(first_name)['first_name']\n",
    "    if info is None:\n",
    "        return\n",
    "    \n",
    "    return max(info['gender'], key=info['gender'].get)"
   ]
  },
  {
   "cell_type": "code",
   "execution_count": 137,
   "id": "2dab902b",
   "metadata": {},
   "outputs": [
    {
     "data": {
      "text/plain": [
       "'Female'"
      ]
     },
     "execution_count": 137,
     "metadata": {},
     "output_type": "execute_result"
    }
   ],
   "source": [
    "name_to_gender('Maedeh')"
   ]
  },
  {
   "cell_type": "code",
   "execution_count": 138,
   "id": "0dd2f248",
   "metadata": {},
   "outputs": [],
   "source": [
    "df['Gender'] = df['First Name'].apply(name_to_gender)"
   ]
  },
  {
   "cell_type": "code",
   "execution_count": 139,
   "id": "d2eb5784",
   "metadata": {},
   "outputs": [
    {
     "data": {
      "text/plain": [
       "{'first_name': {'country': {'United Arab Emirates': 0.03,\n",
       "   'Afghanistan': 0.058,\n",
       "   'Egypt': 0.161,\n",
       "   'Iraq': 0.183,\n",
       "   'Iran, Islamic Republic of': 0.141,\n",
       "   'Saudi Arabia': 0.24,\n",
       "   'Sudan': 0.02,\n",
       "   'Syrian Arab Republic': 0.082,\n",
       "   'Turkey': 0.022,\n",
       "   'Yemen': 0.062},\n",
       "  'gender': {'Female': 0.043, 'Male': 0.957},\n",
       "  'rank': {'United Arab Emirates': 6359,\n",
       "   'Afghanistan': 351,\n",
       "   'Egypt': 5787,\n",
       "   'Iraq': 2941,\n",
       "   'Iran, Islamic Republic of': 763,\n",
       "   'Saudi Arabia': 4185,\n",
       "   'Sudan': 10177,\n",
       "   'Syrian Arab Republic': 2874,\n",
       "   'Turkey': 8591,\n",
       "   'Yemen': 1946}},\n",
       " 'last_name': {'country': {'United Arab Emirates': 0.013,\n",
       "   'Afghanistan': 0.058,\n",
       "   'Egypt': 0.503,\n",
       "   'Iraq': 0.067,\n",
       "   'Iran, Islamic Republic of': 0.027,\n",
       "   'Libya': 0.013,\n",
       "   'Oman': 0.015,\n",
       "   'Saudi Arabia': 0.221,\n",
       "   'Syrian Arab Republic': 0.028,\n",
       "   'Yemen': 0.056},\n",
       "  'gender': {},\n",
       "  'rank': {'Afghanistan': 551,\n",
       "   'Egypt': 4712,\n",
       "   'Iraq': 9623,\n",
       "   'Iran, Islamic Republic of': 6819,\n",
       "   'Libya': 15031,\n",
       "   'Oman': 10452,\n",
       "   'Saudi Arabia': 6428,\n",
       "   'Syrian Arab Republic': 11496,\n",
       "   'Yemen': 4524,\n",
       "   'United Arab Emirates': None}}}"
      ]
     },
     "execution_count": 139,
     "metadata": {},
     "output_type": "execute_result"
    }
   ],
   "source": [
    "nd.search(first_name)"
   ]
  },
  {
   "cell_type": "code",
   "execution_count": 140,
   "id": "651e37ce",
   "metadata": {},
   "outputs": [],
   "source": [
    "def name_to_g_prob(first_name):\n",
    "    prob = nd.search(first_name)['first_name']\n",
    "    if prob is None:\n",
    "        return\n",
    "    return max(list(prob['gender'].values()))"
   ]
  },
  {
   "cell_type": "code",
   "execution_count": 141,
   "id": "078800ed",
   "metadata": {},
   "outputs": [
    {
     "data": {
      "text/plain": [
       "0.991"
      ]
     },
     "execution_count": 141,
     "metadata": {},
     "output_type": "execute_result"
    }
   ],
   "source": [
    "name_to_g_prob('David')"
   ]
  },
  {
   "cell_type": "code",
   "execution_count": 142,
   "id": "426666f8",
   "metadata": {},
   "outputs": [],
   "source": [
    "df['Gender probability'] = df['First Name'].apply(name_to_g_prob)"
   ]
  },
  {
   "cell_type": "code",
   "execution_count": 143,
   "id": "be96f33e",
   "metadata": {},
   "outputs": [],
   "source": [
    "def name_to_country(first_name):\n",
    "    info = nd.search(first_name)['first_name']\n",
    "    if info is None:\n",
    "        return\n",
    "    \n",
    "    return max(info['country'], key=info['country'].get)"
   ]
  },
  {
   "cell_type": "code",
   "execution_count": 144,
   "id": "875b71d3",
   "metadata": {},
   "outputs": [],
   "source": [
    "df['Country'] = df['First Name'].apply(name_to_country)"
   ]
  },
  {
   "cell_type": "code",
   "execution_count": 145,
   "id": "99a9ea31",
   "metadata": {},
   "outputs": [],
   "source": [
    "def name_to_c_prob(first_name):\n",
    "    prob = nd.search(first_name)['first_name']\n",
    "    if prob is None:\n",
    "        return\n",
    "    \n",
    "    return max(list(prob['country'].values()))"
   ]
  },
  {
   "cell_type": "code",
   "execution_count": 146,
   "id": "cce691e3",
   "metadata": {},
   "outputs": [],
   "source": [
    "df['Country probability'] = df['First Name'].apply(name_to_c_prob)"
   ]
  },
  {
   "cell_type": "code",
   "execution_count": 147,
   "id": "ce7a0ef1",
   "metadata": {},
   "outputs": [
    {
     "data": {
      "text/html": [
       "<div>\n",
       "<style scoped>\n",
       "    .dataframe tbody tr th:only-of-type {\n",
       "        vertical-align: middle;\n",
       "    }\n",
       "\n",
       "    .dataframe tbody tr th {\n",
       "        vertical-align: top;\n",
       "    }\n",
       "\n",
       "    .dataframe thead th {\n",
       "        text-align: right;\n",
       "    }\n",
       "</style>\n",
       "<table border=\"1\" class=\"dataframe\">\n",
       "  <thead>\n",
       "    <tr style=\"text-align: right;\">\n",
       "      <th></th>\n",
       "      <th>Name</th>\n",
       "      <th>First Name</th>\n",
       "      <th>Last Name</th>\n",
       "      <th>Gender</th>\n",
       "      <th>Gender probability</th>\n",
       "      <th>Country</th>\n",
       "      <th>Country probability</th>\n",
       "    </tr>\n",
       "  </thead>\n",
       "  <tbody>\n",
       "    <tr>\n",
       "      <th>0</th>\n",
       "      <td>Chad Cohen</td>\n",
       "      <td>Chad</td>\n",
       "      <td>Cohen</td>\n",
       "      <td>Male</td>\n",
       "      <td>0.988</td>\n",
       "      <td>United States</td>\n",
       "      <td>0.745</td>\n",
       "    </tr>\n",
       "    <tr>\n",
       "      <th>1</th>\n",
       "      <td>Sara Johnson</td>\n",
       "      <td>Sara</td>\n",
       "      <td>Johnson</td>\n",
       "      <td>Female</td>\n",
       "      <td>0.973</td>\n",
       "      <td>Italy</td>\n",
       "      <td>0.304</td>\n",
       "    </tr>\n",
       "    <tr>\n",
       "      <th>2</th>\n",
       "      <td>Rachael Barker</td>\n",
       "      <td>Rachael</td>\n",
       "      <td>Barker</td>\n",
       "      <td>Female</td>\n",
       "      <td>0.995</td>\n",
       "      <td>United Kingdom</td>\n",
       "      <td>0.471</td>\n",
       "    </tr>\n",
       "    <tr>\n",
       "      <th>3</th>\n",
       "      <td>Anna Gonzalez</td>\n",
       "      <td>Anna</td>\n",
       "      <td>Gonzalez</td>\n",
       "      <td>Female</td>\n",
       "      <td>0.990</td>\n",
       "      <td>Italy</td>\n",
       "      <td>0.584</td>\n",
       "    </tr>\n",
       "    <tr>\n",
       "      <th>4</th>\n",
       "      <td>Madison Dunlap</td>\n",
       "      <td>Madison</td>\n",
       "      <td>Dunlap</td>\n",
       "      <td>Female</td>\n",
       "      <td>0.952</td>\n",
       "      <td>United States</td>\n",
       "      <td>0.721</td>\n",
       "    </tr>\n",
       "    <tr>\n",
       "      <th>5</th>\n",
       "      <td>James Murray</td>\n",
       "      <td>James</td>\n",
       "      <td>Murray</td>\n",
       "      <td>Male</td>\n",
       "      <td>0.982</td>\n",
       "      <td>United States</td>\n",
       "      <td>0.381</td>\n",
       "    </tr>\n",
       "    <tr>\n",
       "      <th>6</th>\n",
       "      <td>سرکار خانم محیا عزیزی</td>\n",
       "      <td>سرکار</td>\n",
       "      <td>عزیزی</td>\n",
       "      <td>None</td>\n",
       "      <td>NaN</td>\n",
       "      <td>None</td>\n",
       "      <td>NaN</td>\n",
       "    </tr>\n",
       "    <tr>\n",
       "      <th>7</th>\n",
       "      <td>عرفان جهانی</td>\n",
       "      <td>عرفان</td>\n",
       "      <td>جهانی</td>\n",
       "      <td>Male</td>\n",
       "      <td>0.957</td>\n",
       "      <td>Saudi Arabia</td>\n",
       "      <td>0.240</td>\n",
       "    </tr>\n",
       "    <tr>\n",
       "      <th>8</th>\n",
       "      <td>Amanda Ramirez</td>\n",
       "      <td>Amanda</td>\n",
       "      <td>Ramirez</td>\n",
       "      <td>Female</td>\n",
       "      <td>0.987</td>\n",
       "      <td>United States</td>\n",
       "      <td>0.371</td>\n",
       "    </tr>\n",
       "    <tr>\n",
       "      <th>9</th>\n",
       "      <td>ابوالفضل لاچینی</td>\n",
       "      <td>ابوالفضل</td>\n",
       "      <td>لاچینی</td>\n",
       "      <td>Male</td>\n",
       "      <td>0.953</td>\n",
       "      <td>Iran, Islamic Republic of</td>\n",
       "      <td>0.497</td>\n",
       "    </tr>\n",
       "  </tbody>\n",
       "</table>\n",
       "</div>"
      ],
      "text/plain": [
       "                    Name First Name Last Name  Gender  Gender probability  \\\n",
       "0             Chad Cohen       Chad     Cohen    Male               0.988   \n",
       "1           Sara Johnson       Sara   Johnson  Female               0.973   \n",
       "2         Rachael Barker    Rachael    Barker  Female               0.995   \n",
       "3          Anna Gonzalez       Anna  Gonzalez  Female               0.990   \n",
       "4         Madison Dunlap    Madison    Dunlap  Female               0.952   \n",
       "5           James Murray      James    Murray    Male               0.982   \n",
       "6  سرکار خانم محیا عزیزی      سرکار     عزیزی    None                 NaN   \n",
       "7            عرفان جهانی      عرفان     جهانی    Male               0.957   \n",
       "8         Amanda Ramirez     Amanda   Ramirez  Female               0.987   \n",
       "9        ابوالفضل لاچینی   ابوالفضل    لاچینی    Male               0.953   \n",
       "\n",
       "                     Country  Country probability  \n",
       "0              United States                0.745  \n",
       "1                      Italy                0.304  \n",
       "2             United Kingdom                0.471  \n",
       "3                      Italy                0.584  \n",
       "4              United States                0.721  \n",
       "5              United States                0.381  \n",
       "6                       None                  NaN  \n",
       "7               Saudi Arabia                0.240  \n",
       "8              United States                0.371  \n",
       "9  Iran, Islamic Republic of                0.497  "
      ]
     },
     "execution_count": 147,
     "metadata": {},
     "output_type": "execute_result"
    }
   ],
   "source": [
    "df"
   ]
  },
  {
   "cell_type": "code",
   "execution_count": null,
   "id": "ede6e836",
   "metadata": {},
   "outputs": [],
   "source": []
  }
 ],
 "metadata": {
  "kernelspec": {
   "display_name": "Python 3",
   "language": "python",
   "name": "python3"
  },
  "language_info": {
   "codemirror_mode": {
    "name": "ipython",
    "version": 3
   },
   "file_extension": ".py",
   "mimetype": "text/x-python",
   "name": "python",
   "nbconvert_exporter": "python",
   "pygments_lexer": "ipython3",
   "version": "3.7.6"
  }
 },
 "nbformat": 4,
 "nbformat_minor": 5
}
